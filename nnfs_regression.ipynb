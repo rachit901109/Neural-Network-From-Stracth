{
 "cells": [
  {
   "cell_type": "code",
   "execution_count": 1,
   "id": "062b443b",
   "metadata": {},
   "outputs": [],
   "source": [
    "import numpy as np\n",
    "import pandas as pd\n",
    "import matplotlib.pyplot as plt \n",
    "from sklearn.datasets import make_regression"
   ]
  },
  {
   "cell_type": "code",
   "execution_count": 2,
   "id": "cf4e123f",
   "metadata": {},
   "outputs": [],
   "source": [
    "X,y,coeff = make_regression(n_samples=500,n_features=3,n_informative=2,n_targets=1,noise=0.5,coef=True)"
   ]
  },
  {
   "cell_type": "code",
   "execution_count": 3,
   "id": "9ab87fca",
   "metadata": {
    "scrolled": true
   },
   "outputs": [
    {
     "data": {
      "text/plain": [
       "array([79.80123467,  0.        , 83.71321883])"
      ]
     },
     "execution_count": 3,
     "metadata": {},
     "output_type": "execute_result"
    }
   ],
   "source": [
    "coeff"
   ]
  },
  {
   "cell_type": "code",
   "execution_count": 4,
   "id": "08e45b6a",
   "metadata": {},
   "outputs": [],
   "source": [
    "df = pd.DataFrame(X,columns=['X1','X2','X3'])"
   ]
  },
  {
   "cell_type": "code",
   "execution_count": 5,
   "id": "f907a292",
   "metadata": {},
   "outputs": [],
   "source": [
    "df['y']=y"
   ]
  },
  {
   "cell_type": "code",
   "execution_count": 6,
   "id": "2b426730",
   "metadata": {},
   "outputs": [
    {
     "data": {
      "text/html": [
       "<div>\n",
       "<style scoped>\n",
       "    .dataframe tbody tr th:only-of-type {\n",
       "        vertical-align: middle;\n",
       "    }\n",
       "\n",
       "    .dataframe tbody tr th {\n",
       "        vertical-align: top;\n",
       "    }\n",
       "\n",
       "    .dataframe thead th {\n",
       "        text-align: right;\n",
       "    }\n",
       "</style>\n",
       "<table border=\"1\" class=\"dataframe\">\n",
       "  <thead>\n",
       "    <tr style=\"text-align: right;\">\n",
       "      <th></th>\n",
       "      <th>X1</th>\n",
       "      <th>X2</th>\n",
       "      <th>X3</th>\n",
       "      <th>y</th>\n",
       "    </tr>\n",
       "  </thead>\n",
       "  <tbody>\n",
       "    <tr>\n",
       "      <th>0</th>\n",
       "      <td>0.381798</td>\n",
       "      <td>1.845372</td>\n",
       "      <td>-0.609331</td>\n",
       "      <td>-21.200291</td>\n",
       "    </tr>\n",
       "    <tr>\n",
       "      <th>1</th>\n",
       "      <td>0.473267</td>\n",
       "      <td>1.246946</td>\n",
       "      <td>-0.924456</td>\n",
       "      <td>-39.241339</td>\n",
       "    </tr>\n",
       "    <tr>\n",
       "      <th>2</th>\n",
       "      <td>1.114147</td>\n",
       "      <td>-1.763893</td>\n",
       "      <td>-1.321818</td>\n",
       "      <td>-22.685061</td>\n",
       "    </tr>\n",
       "    <tr>\n",
       "      <th>3</th>\n",
       "      <td>0.995369</td>\n",
       "      <td>0.904876</td>\n",
       "      <td>0.323886</td>\n",
       "      <td>105.753757</td>\n",
       "    </tr>\n",
       "    <tr>\n",
       "      <th>4</th>\n",
       "      <td>1.508462</td>\n",
       "      <td>-0.366036</td>\n",
       "      <td>0.101918</td>\n",
       "      <td>129.406507</td>\n",
       "    </tr>\n",
       "  </tbody>\n",
       "</table>\n",
       "</div>"
      ],
      "text/plain": [
       "         X1        X2        X3           y\n",
       "0  0.381798  1.845372 -0.609331  -21.200291\n",
       "1  0.473267  1.246946 -0.924456  -39.241339\n",
       "2  1.114147 -1.763893 -1.321818  -22.685061\n",
       "3  0.995369  0.904876  0.323886  105.753757\n",
       "4  1.508462 -0.366036  0.101918  129.406507"
      ]
     },
     "execution_count": 6,
     "metadata": {},
     "output_type": "execute_result"
    }
   ],
   "source": [
    "df.head()"
   ]
  },
  {
   "cell_type": "code",
   "execution_count": 7,
   "id": "76472ac5",
   "metadata": {},
   "outputs": [
    {
     "data": {
      "text/html": [
       "<div>\n",
       "<style scoped>\n",
       "    .dataframe tbody tr th:only-of-type {\n",
       "        vertical-align: middle;\n",
       "    }\n",
       "\n",
       "    .dataframe tbody tr th {\n",
       "        vertical-align: top;\n",
       "    }\n",
       "\n",
       "    .dataframe thead th {\n",
       "        text-align: right;\n",
       "    }\n",
       "</style>\n",
       "<table border=\"1\" class=\"dataframe\">\n",
       "  <thead>\n",
       "    <tr style=\"text-align: right;\">\n",
       "      <th></th>\n",
       "      <th>X1</th>\n",
       "      <th>X2</th>\n",
       "      <th>X3</th>\n",
       "      <th>y</th>\n",
       "    </tr>\n",
       "  </thead>\n",
       "  <tbody>\n",
       "    <tr>\n",
       "      <th>count</th>\n",
       "      <td>500.000000</td>\n",
       "      <td>500.000000</td>\n",
       "      <td>500.000000</td>\n",
       "      <td>500.000000</td>\n",
       "    </tr>\n",
       "    <tr>\n",
       "      <th>mean</th>\n",
       "      <td>-0.017379</td>\n",
       "      <td>-0.064123</td>\n",
       "      <td>0.035684</td>\n",
       "      <td>1.575377</td>\n",
       "    </tr>\n",
       "    <tr>\n",
       "      <th>std</th>\n",
       "      <td>1.005294</td>\n",
       "      <td>1.006080</td>\n",
       "      <td>1.050782</td>\n",
       "      <td>120.775153</td>\n",
       "    </tr>\n",
       "    <tr>\n",
       "      <th>min</th>\n",
       "      <td>-2.845492</td>\n",
       "      <td>-3.396714</td>\n",
       "      <td>-2.462088</td>\n",
       "      <td>-351.416492</td>\n",
       "    </tr>\n",
       "    <tr>\n",
       "      <th>25%</th>\n",
       "      <td>-0.673538</td>\n",
       "      <td>-0.758657</td>\n",
       "      <td>-0.674204</td>\n",
       "      <td>-80.647761</td>\n",
       "    </tr>\n",
       "    <tr>\n",
       "      <th>50%</th>\n",
       "      <td>-0.032380</td>\n",
       "      <td>-0.073101</td>\n",
       "      <td>0.052328</td>\n",
       "      <td>5.750017</td>\n",
       "    </tr>\n",
       "    <tr>\n",
       "      <th>75%</th>\n",
       "      <td>0.625293</td>\n",
       "      <td>0.645537</td>\n",
       "      <td>0.772148</td>\n",
       "      <td>81.762237</td>\n",
       "    </tr>\n",
       "    <tr>\n",
       "      <th>max</th>\n",
       "      <td>2.831166</td>\n",
       "      <td>2.786530</td>\n",
       "      <td>3.411969</td>\n",
       "      <td>304.555544</td>\n",
       "    </tr>\n",
       "  </tbody>\n",
       "</table>\n",
       "</div>"
      ],
      "text/plain": [
       "               X1          X2          X3           y\n",
       "count  500.000000  500.000000  500.000000  500.000000\n",
       "mean    -0.017379   -0.064123    0.035684    1.575377\n",
       "std      1.005294    1.006080    1.050782  120.775153\n",
       "min     -2.845492   -3.396714   -2.462088 -351.416492\n",
       "25%     -0.673538   -0.758657   -0.674204  -80.647761\n",
       "50%     -0.032380   -0.073101    0.052328    5.750017\n",
       "75%      0.625293    0.645537    0.772148   81.762237\n",
       "max      2.831166    2.786530    3.411969  304.555544"
      ]
     },
     "execution_count": 7,
     "metadata": {},
     "output_type": "execute_result"
    }
   ],
   "source": [
    "df.describe()"
   ]
  },
  {
   "cell_type": "code",
   "execution_count": 8,
   "id": "a330ecdb",
   "metadata": {},
   "outputs": [],
   "source": [
    "y = y.reshape(-1,1)"
   ]
  },
  {
   "cell_type": "code",
   "execution_count": 9,
   "id": "f47cb028",
   "metadata": {},
   "outputs": [],
   "source": [
    "%run C:\\Users\\rachi\\DL\\ANN\\nnfs.ipynb"
   ]
  },
  {
   "cell_type": "code",
   "execution_count": 10,
   "id": "5b9739b1",
   "metadata": {},
   "outputs": [],
   "source": [
    "model1 = NN_regressor(layers=[3,5,1],activation='tanh',out='identity',loss_function='mse')"
   ]
  },
  {
   "cell_type": "code",
   "execution_count": 11,
   "id": "f7ef9761",
   "metadata": {},
   "outputs": [
    {
     "name": "stdout",
     "output_type": "stream",
     "text": [
      "Epoch:0 Loss: 14607.501822571558 Accuracy: -0.003437241751634179\n",
      "---------------------\n",
      "Epoch:10 Loss: 2643.682857399307 Accuracy: 0.8183967480054822\n",
      "---------------------\n",
      "Epoch:20 Loss: 2318.5490825143183 Accuracy: 0.8407312540855545\n",
      "---------------------\n",
      "Epoch:30 Loss: 2203.2362589653353 Accuracy: 0.8486524703897544\n",
      "---------------------\n",
      "Epoch:40 Loss: 1892.912430277236 Accuracy: 0.8699696326595843\n",
      "---------------------\n",
      "Epoch:50 Loss: 2079.5461456691646 Accuracy: 0.8571491502208035\n",
      "---------------------\n",
      "Epoch:60 Loss: 1850.4224580390357 Accuracy: 0.8728884083039536\n",
      "---------------------\n",
      "Epoch:70 Loss: 2137.69823215144 Accuracy: 0.8531544925462303\n",
      "---------------------\n",
      "Epoch:80 Loss: 1960.8620655521147 Accuracy: 0.8653019492030676\n",
      "---------------------\n",
      "Epoch:90 Loss: 1802.3147791432455 Accuracy: 0.8761930826558454\n",
      "---------------------\n",
      "Epoch:100 Loss: 1924.6710912760723 Accuracy: 0.8677880260042179\n",
      "---------------------\n",
      "Epoch:110 Loss: 1783.7275443612002 Accuracy: 0.8774699008159955\n",
      "---------------------\n",
      "Epoch:120 Loss: 1644.1950666457988 Accuracy: 0.8870548446533577\n",
      "---------------------\n",
      "Epoch:130 Loss: 1389.2589087254696 Accuracy: 0.9045672460368066\n",
      "---------------------\n",
      "Epoch:140 Loss: 1395.3685352513603 Accuracy: 0.9041475557390584\n",
      "---------------------\n",
      "Epoch:150 Loss: 1361.179064910326 Accuracy: 0.906496142666013\n",
      "---------------------\n",
      "Epoch:160 Loss: 1385.9456148502265 Accuracy: 0.9047948470672682\n",
      "---------------------\n",
      "Epoch:170 Loss: 1342.1807259970572 Accuracy: 0.9078012009181733\n",
      "---------------------\n",
      "Epoch:180 Loss: 1342.0433556332594 Accuracy: 0.9078106373393096\n",
      "---------------------\n",
      "Epoch:190 Loss: 1377.6987795632342 Accuracy: 0.9053613492490973\n",
      "---------------------\n",
      "Epoch:200 Loss: 1434.0590731828268 Accuracy: 0.9014897757068938\n",
      "---------------------\n",
      "Epoch:210 Loss: 1340.6659992345226 Accuracy: 0.9079052524707978\n",
      "---------------------\n",
      "Epoch:220 Loss: 1320.3189695707504 Accuracy: 0.909302956716989\n",
      "---------------------\n",
      "Epoch:230 Loss: 1359.4084049114836 Accuracy: 0.9066177751126079\n",
      "---------------------\n",
      "Epoch:240 Loss: 1379.5776435978757 Accuracy: 0.9052322839121597\n",
      "---------------------\n",
      "Epoch:250 Loss: 1348.0331479833765 Accuracy: 0.9073991788443889\n",
      "---------------------\n",
      "Epoch:260 Loss: 1400.1807555343494 Accuracy: 0.9038169885341991\n",
      "---------------------\n",
      "Epoch:270 Loss: 1360.2652205278841 Accuracy: 0.9065589176358638\n",
      "---------------------\n",
      "Epoch:280 Loss: 1387.93753587575 Accuracy: 0.9046580154745758\n",
      "---------------------\n",
      "Epoch:290 Loss: 1340.5043404684118 Accuracy: 0.9079163573420032\n",
      "---------------------\n",
      "Epoch:300 Loss: 1366.045701850186 Accuracy: 0.9061618374023988\n",
      "---------------------\n"
     ]
    },
    {
     "name": "stderr",
     "output_type": "stream",
     "text": [
      "C:\\Users\\rachi\\AppData\\Local\\Temp\\ipykernel_11512\\2387093470.py:26: RuntimeWarning: overflow encountered in exp\n",
      "  return (2/(1+np.exp(-2*z)))-1\n"
     ]
    },
    {
     "name": "stdout",
     "output_type": "stream",
     "text": [
      "Epoch:310 Loss: 1325.6739927732363 Accuracy: 0.9089351025981202\n",
      "---------------------\n",
      "Epoch:320 Loss: 1329.217394430342 Accuracy: 0.9086916947089128\n",
      "---------------------\n",
      "Epoch:330 Loss: 1327.1641842027316 Accuracy: 0.9088327364580465\n",
      "---------------------\n",
      "Epoch:340 Loss: 1302.221481036665 Accuracy: 0.9105461326000285\n",
      "---------------------\n",
      "Epoch:350 Loss: 1336.6689817211884 Accuracy: 0.9081798207219286\n",
      "---------------------\n",
      "Epoch:360 Loss: 1322.8320766575662 Accuracy: 0.9091303231432233\n",
      "---------------------\n",
      "Epoch:370 Loss: 1364.3000850073097 Accuracy: 0.9062817495524191\n",
      "---------------------\n",
      "Epoch:380 Loss: 1346.1668847287117 Accuracy: 0.9075273785923944\n",
      "---------------------\n",
      "Epoch:390 Loss: 1368.9534646283753 Accuracy: 0.9059620936339396\n",
      "---------------------\n",
      "Epoch:400 Loss: 1311.8083082039882 Accuracy: 0.90988758197811\n",
      "---------------------\n",
      "Epoch:410 Loss: 1347.076338989785 Accuracy: 0.9074649051943887\n",
      "---------------------\n",
      "Epoch:420 Loss: 1354.3383080098063 Accuracy: 0.9069660567087512\n",
      "---------------------\n",
      "Epoch:430 Loss: 1331.740822709516 Accuracy: 0.9085183521385699\n",
      "---------------------\n",
      "Epoch:440 Loss: 1371.1292387273058 Accuracy: 0.9058126325702325\n",
      "---------------------\n",
      "Epoch:450 Loss: 1412.0583402509626 Accuracy: 0.9030010782579948\n",
      "---------------------\n",
      "Epoch:460 Loss: 1325.0870510626332 Accuracy: 0.9089754215505537\n",
      "---------------------\n",
      "Epoch:470 Loss: 1331.4598841485815 Accuracy: 0.9085376507303559\n",
      "---------------------\n",
      "Epoch:480 Loss: 1449.2326499006008 Accuracy: 0.9004474529227431\n",
      "---------------------\n",
      "Epoch:490 Loss: 1290.652016662833 Accuracy: 0.9113408770786418\n",
      "---------------------\n"
     ]
    },
    {
     "data": {
      "text/plain": [
       "[<matplotlib.lines.Line2D at 0x1f25353efe0>]"
      ]
     },
     "execution_count": 11,
     "metadata": {},
     "output_type": "execute_result"
    },
    {
     "data": {
      "image/png": "[encoded data removed]",
      "text/plain": [
       "<Figure size 640x480 with 1 Axes>"
      ]
     },
     "metadata": {},
     "output_type": "display_data"
    }
   ],
   "source": [
    "model1.fit(X=X,y=y,lr=0.001,epochs=500)\n",
    "\n",
    "plt.title('Without Scaling y')\n",
    "plt.plot(range(500),model1.losses,label='Loss')"
   ]
  },
  {
   "cell_type": "code",
   "execution_count": 12,
   "id": "499c13fc",
   "metadata": {},
   "outputs": [
    {
     "data": {
      "text/plain": [
       "<matplotlib.legend.Legend at 0x1f23007bb20>"
      ]
     },
     "execution_count": 12,
     "metadata": {},
     "output_type": "execute_result"
    },
    {
     "data": {
      "image/png": "[encoded data removed]",
      "text/plain": [
       "<Figure size 640x480 with 1 Axes>"
      ]
     },
     "metadata": {},
     "output_type": "display_data"
    }
   ],
   "source": [
    "plt.plot(range(500),model1.accuracy_score,label='Accuracy')\n",
    "plt.legend()"
   ]
  },
  {
   "cell_type": "markdown",
   "id": "937aa627",
   "metadata": {},
   "source": [
    "#### Pytorch implementation"
   ]
  },
  {
   "cell_type": "code",
   "execution_count": 13,
   "id": "8aecdbe1",
   "metadata": {},
   "outputs": [],
   "source": [
    "import torch\n",
    "import torch.nn as nn\n",
    "import torch.optim as optim"
   ]
  },
  {
   "cell_type": "code",
   "execution_count": 14,
   "id": "9d3053e0",
   "metadata": {},
   "outputs": [
    {
     "name": "stdout",
     "output_type": "stream",
     "text": [
      "Regression(\n",
      "  (hidden1): Linear(in_features=3, out_features=5, bias=True)\n",
      "  (act1): Tanh()\n",
      "  (out): Linear(in_features=5, out_features=1, bias=True)\n",
      ")\n"
     ]
    }
   ],
   "source": [
    "input_dim = 3\n",
    "hidden_dim = 5\n",
    "output_dim = 1\n",
    "\n",
    "class Regression(nn.Module):\n",
    "    def __init__(self,input_dim,hidden_dim,output_dim):\n",
    "        super(Regression, self).__init__()\n",
    "        self.hidden1 = nn.Linear(input_dim, hidden_dim)\n",
    "        self.act1 = nn.Tanh()\n",
    "        self.out = nn.Linear(hidden_dim, output_dim)\n",
    "#         self.act2 = nn.ReLU()\n",
    "#         self.output = nn.Linear(8, 1)\n",
    "#         self.act_output = nn.Sigmoid()\n",
    " \n",
    "    def forward(self, x):\n",
    "        x = self.act1(self.hidden1(x))\n",
    "        x = self.out(x)\n",
    "        return x\n",
    "    \n",
    "reg_model1 = Regression(input_dim=input_dim,hidden_dim=hidden_dim,output_dim=output_dim)\n",
    "print(reg_model1)"
   ]
  },
  {
   "cell_type": "code",
   "execution_count": 16,
   "id": "09e8e204",
   "metadata": {},
   "outputs": [],
   "source": [
    "loss_fn = nn.MSELoss()  # binary cross entropy\n",
    "optimizer = optim.SGD(reg_model1.parameters(), lr=0.001)"
   ]
  },
  {
   "cell_type": "code",
   "execution_count": 17,
   "id": "04773602",
   "metadata": {},
   "outputs": [],
   "source": [
    "X_tensor = torch.tensor(X,dtype=torch.float32)\n",
    "y_tensor = torch.tensor(y,dtype=torch.float32)"
   ]
  },
  {
   "cell_type": "code",
   "execution_count": 18,
   "id": "4f264899",
   "metadata": {},
   "outputs": [
    {
     "name": "stdout",
     "output_type": "stream",
     "text": [
      "epoch: 0 loss: 14539.185546875\n",
      "epoch: 50 loss: 9340.8583984375\n",
      "epoch: 100 loss: 6017.89404296875\n",
      "epoch: 150 loss: 4401.017578125\n",
      "epoch: 200 loss: 3317.27783203125\n",
      "epoch: 250 loss: 2600.75048828125\n",
      "epoch: 300 loss: 2112.72705078125\n",
      "epoch: 350 loss: 1760.075927734375\n",
      "epoch: 400 loss: 1492.821044921875\n",
      "epoch: 450 loss: 1284.66650390625\n"
     ]
    },
    {
     "data": {
      "text/plain": [
       "[<matplotlib.lines.Line2D at 0x1f25b7e2b30>]"
      ]
     },
     "execution_count": 18,
     "metadata": {},
     "output_type": "execute_result"
    },
    {
     "data": {
      "image/png": "[encoded data removed]",
      "text/plain": [
       "<Figure size 640x480 with 1 Axes>"
      ]
     },
     "metadata": {},
     "output_type": "display_data"
    }
   ],
   "source": [
    "losses = []\n",
    "for i in range(500):\n",
    "    optimizer.zero_grad()\n",
    "    \n",
    "    ypred = reg_model1.forward(X_tensor)\n",
    "    loss = loss_fn(ypred, y_tensor)\n",
    "    \n",
    "    losses.append(loss.item())\n",
    "    loss.backward()\n",
    "    optimizer.step()\n",
    "    if(i%50==0):\n",
    "        print(f\"epoch: {i} loss: {loss.item()}\")\n",
    "        \n",
    "\n",
    "plt.plot(range(500),losses)"
   ]
  },
  {
   "cell_type": "code",
   "execution_count": 19,
   "id": "bb8a7844",
   "metadata": {},
   "outputs": [
    {
     "name": "stdout",
     "output_type": "stream",
     "text": [
      "Weights:\n",
      " [None, array([[-59.84300544,  66.73358714, -62.56984174,  27.09423041,\n",
      "        -64.70612782],\n",
      "       [ 18.93406717,  34.42008417,  18.37268247,  18.18210292,\n",
      "          6.01788862],\n",
      "       [-77.03650399,  26.3021048 , -81.05355222,  -7.16790028,\n",
      "        -79.54793797]]), array([[-45.06903663],\n",
      "       [ 28.53848722],\n",
      "       [-56.2008177 ],\n",
      "       [ 20.80699646],\n",
      "       [-61.79129372]])]\n",
      "Biases:\n",
      " [None, array([  7.57077057, -27.13631948, 119.11087343, -76.43188155,\n",
      "       -97.69011271]), array([36.46784861])]\n"
     ]
    }
   ],
   "source": [
    "print(f\"Weights:\\n {model1.w}\\nBiases:\\n {model1.b}\")"
   ]
  },
  {
   "cell_type": "code",
   "execution_count": 20,
   "id": "115e6cd5",
   "metadata": {},
   "outputs": [
    {
     "name": "stdout",
     "output_type": "stream",
     "text": [
      "hidden1.weight Parameter containing:\n",
      "tensor([[ 2.2508e+00, -3.0799e-03,  2.3576e+00],\n",
      "        [ 1.9600e+00, -1.7048e-02,  2.0361e+00],\n",
      "        [ 1.7630e+00,  5.3493e-04,  1.8608e+00],\n",
      "        [ 1.8586e+00, -2.0349e-01,  2.0006e+00],\n",
      "        [ 1.8677e+00,  2.3502e-01,  1.9105e+00]], requires_grad=True)\n",
      "hidden1.bias Parameter containing:\n",
      "tensor([ 0.0138, -2.6468, -1.4422,  2.1454,  2.0395], requires_grad=True)\n",
      "out.weight Parameter containing:\n",
      "tensor([[30.2477, 31.2083, 31.0434, 29.7180, 29.7601]], requires_grad=True)\n",
      "out.bias Parameter containing:\n",
      "tensor([0.0602], requires_grad=True)\n"
     ]
    }
   ],
   "source": [
    "for name,param in reg_model1.named_parameters():\n",
    "    print(name,param)"
   ]
  },
  {
   "cell_type": "markdown",
   "id": "0c30a953",
   "metadata": {},
   "source": [
    "#### Scaling y"
   ]
  },
  {
   "cell_type": "code",
   "execution_count": 22,
   "id": "fd556238",
   "metadata": {},
   "outputs": [],
   "source": [
    "model2 = NN_regressor(layers=[3,5,1],activation='tanh',out='identity',loss_function='mse')"
   ]
  },
  {
   "cell_type": "code",
   "execution_count": 23,
   "id": "52e63ca5",
   "metadata": {},
   "outputs": [],
   "source": [
    "y = y/100"
   ]
  },
  {
   "cell_type": "code",
   "execution_count": 24,
   "id": "f47fd987",
   "metadata": {},
   "outputs": [
    {
     "name": "stdout",
     "output_type": "stream",
     "text": [
      "Epoch:0 Loss: 5.549303169652865 Accuracy: -2.811998474370065\n",
      "---------------------\n",
      "Epoch:10 Loss: 0.11635618817261369 Accuracy: 0.9200711155549886\n",
      "---------------------\n",
      "Epoch:20 Loss: 0.08033934261387206 Accuracy: 0.9448122688357047\n",
      "---------------------\n",
      "Epoch:30 Loss: 0.060826332778999744 Accuracy: 0.9582163957047642\n",
      "---------------------\n",
      "Epoch:40 Loss: 0.048595180109361105 Accuracy: 0.9666183758977777\n",
      "---------------------\n",
      "Epoch:50 Loss: 0.03994860562198352 Accuracy: 0.9725579916921824\n",
      "---------------------\n",
      "Epoch:60 Loss: 0.03324818067617458 Accuracy: 0.9771607334942044\n",
      "---------------------\n",
      "Epoch:70 Loss: 0.06371119559126909 Accuracy: 0.956234688758336\n",
      "---------------------\n",
      "Epoch:80 Loss: 0.18593686817996988 Accuracy: 0.8722738628324876\n",
      "---------------------\n",
      "Epoch:90 Loss: 0.039656207469356865 Accuracy: 0.9727588495796766\n",
      "---------------------\n",
      "Epoch:100 Loss: 0.027388028367171805 Accuracy: 0.981186264444407\n",
      "---------------------\n",
      "Epoch:110 Loss: 0.02024735101107568 Accuracy: 0.9860914300760606\n",
      "---------------------\n",
      "Epoch:120 Loss: 0.01588580476263257 Accuracy: 0.9890875193392823\n",
      "---------------------\n",
      "Epoch:130 Loss: 0.013190636933553723 Accuracy: 0.9909389185760017\n",
      "---------------------\n",
      "Epoch:140 Loss: 0.013652728714599263 Accuracy: 0.9906214925658321\n",
      "---------------------\n",
      "Epoch:150 Loss: 0.09161709832296233 Accuracy: 0.9370652083052093\n",
      "---------------------\n",
      "Epoch:160 Loss: 0.2388013743017564 Accuracy: 0.8359594985738157\n",
      "---------------------\n",
      "Epoch:170 Loss: 0.02643559297604842 Accuracy: 0.9818405235733285\n",
      "---------------------\n",
      "Epoch:180 Loss: 0.01293962315363531 Accuracy: 0.991111348179655\n",
      "---------------------\n",
      "Epoch:190 Loss: 0.010679524787554798 Accuracy: 0.992663883923339\n",
      "---------------------\n",
      "Epoch:200 Loss: 0.00957764375268556 Accuracy: 0.9934208021697288\n",
      "---------------------\n",
      "Epoch:210 Loss: 0.008834963019553697 Accuracy: 0.9939309739399657\n",
      "---------------------\n",
      "Epoch:220 Loss: 0.008371351979637677 Accuracy: 0.9942494435789152\n",
      "---------------------\n",
      "Epoch:230 Loss: 0.008557149447862372 Accuracy: 0.994121813200152\n",
      "---------------------\n",
      "Epoch:240 Loss: 0.0123055648539831 Accuracy: 0.9915469036353658\n",
      "---------------------\n",
      "Epoch:250 Loss: 0.04265025731073321 Accuracy: 0.970702138479456\n",
      "---------------------\n",
      "Epoch:260 Loss: 0.14896432810855195 Accuracy: 0.8976715140396837\n",
      "---------------------\n",
      "Epoch:270 Loss: 0.07648003462245599 Accuracy: 0.947463354156805\n",
      "---------------------\n",
      "Epoch:280 Loss: 0.02156251258709455 Accuracy: 0.9851880024261259\n",
      "---------------------\n",
      "Epoch:290 Loss: 0.011464630496898285 Accuracy: 0.9921245690445623\n",
      "---------------------\n",
      "Epoch:300 Loss: 0.009038040324467268 Accuracy: 0.9937914734742598\n",
      "---------------------\n",
      "Epoch:310 Loss: 0.008195340428151421 Accuracy: 0.9943703516902986\n",
      "---------------------\n",
      "Epoch:320 Loss: 0.008030329753549125 Accuracy: 0.9944837029383038\n",
      "---------------------\n",
      "Epoch:330 Loss: 0.008847315024310864 Accuracy: 0.9939224889425073\n",
      "---------------------\n",
      "Epoch:340 Loss: 0.01280004748338397 Accuracy: 0.991207227288399\n",
      "---------------------\n",
      "Epoch:350 Loss: 0.02894934667115947 Accuracy: 0.980113743659211\n",
      "---------------------\n",
      "Epoch:360 Loss: 0.0737652546995298 Accuracy: 0.9493282255844535\n",
      "---------------------\n",
      "Epoch:370 Loss: 0.08405107921369427 Accuracy: 0.9422625551467568\n",
      "---------------------\n",
      "Epoch:380 Loss: 0.03927771629854493 Accuracy: 0.9730188475869197\n",
      "---------------------\n",
      "Epoch:390 Loss: 0.017939272205012218 Accuracy: 0.9876769251586783\n",
      "---------------------\n",
      "Epoch:400 Loss: 0.011398903832375332 Accuracy: 0.9921697188475604\n",
      "---------------------\n",
      "Epoch:410 Loss: 0.009282859842897452 Accuracy: 0.9936232989121173\n",
      "---------------------\n",
      "Epoch:420 Loss: 0.008797547790776348 Accuracy: 0.9939566756885739\n",
      "---------------------\n",
      "Epoch:430 Loss: 0.00958528427278332 Accuracy: 0.9934155536457131\n",
      "---------------------\n",
      "Epoch:440 Loss: 0.012698092684882244 Accuracy: 0.9912772633856282\n",
      "---------------------\n",
      "Epoch:450 Loss: 0.021566687200394424 Accuracy: 0.9851851347472402\n",
      "---------------------\n",
      "Epoch:460 Loss: 0.04135223334812701 Accuracy: 0.971593793740284\n",
      "---------------------\n",
      "Epoch:470 Loss: 0.060014181335798375 Accuracy: 0.958774289185764\n",
      "---------------------\n",
      "Epoch:480 Loss: 0.04853765687421156 Accuracy: 0.9666578904959041\n",
      "---------------------\n",
      "Epoch:490 Loss: 0.027684068183562352 Accuracy: 0.9809829049785547\n",
      "---------------------\n"
     ]
    },
    {
     "data": {
      "text/plain": [
       "<matplotlib.legend.Legend at 0x1f25b859d20>"
      ]
     },
     "execution_count": 24,
     "metadata": {},
     "output_type": "execute_result"
    },
    {
     "data": {
      "image/png": "[encoded data removed]",
      "text/plain": [
       "<Figure size 640x480 with 1 Axes>"
      ]
     },
     "metadata": {},
     "output_type": "display_data"
    }
   ],
   "source": [
    "model2.fit(X=X,y=y,lr=0.001,epochs=500)\n",
    "\n",
    "plt.title('Scaling y')\n",
    "plt.plot(range(500),model2.losses,label='Loss')\n",
    "plt.legend()"
   ]
  },
  {
   "cell_type": "code",
   "execution_count": 25,
   "id": "964df0bc",
   "metadata": {},
   "outputs": [
    {
     "data": {
      "text/plain": [
       "<matplotlib.legend.Legend at 0x1f25b8ecdc0>"
      ]
     },
     "execution_count": 25,
     "metadata": {},
     "output_type": "execute_result"
    },
    {
     "data": {
      "image/png": "[encoded data removed]",
      "text/plain": [
       "<Figure size 640x480 with 1 Axes>"
      ]
     },
     "metadata": {},
     "output_type": "display_data"
    }
   ],
   "source": [
    "plt.title('Scaling y')\n",
    "plt.plot(range(500),model2.accuracy_score,label='Accuracy')\n",
    "plt.legend()"
   ]
  },
  {
   "cell_type": "code",
   "execution_count": 26,
   "id": "97b2d885",
   "metadata": {},
   "outputs": [
    {
     "name": "stdout",
     "output_type": "stream",
     "text": [
      "Weights:\n",
      "[None, array([[ 0.68608549,  0.72454097,  0.13042808, -0.56583031,  0.17107267],\n",
      "       [ 0.05965182, -1.15698787, -0.26149183, -0.06403332, -1.13654544],\n",
      "       [ 0.70774339, -0.37797254,  0.53813174, -0.55963712,  1.57928166]]), array([[ 1.21057407],\n",
      "       [ 0.05552835],\n",
      "       [ 1.26550555],\n",
      "       [-1.50482795],\n",
      "       [ 0.0677863 ]])]\n",
      "Biases:\n",
      "[None, array([ 1.29343171,  0.28957469, -2.58623264,  0.85082952,  0.40351055]), array([1.10168606])]\n"
     ]
    }
   ],
   "source": [
    "print(f\"Weights:\\n{model2.w}\\nBiases:\\n{model2.b}\")"
   ]
  },
  {
   "cell_type": "code",
   "execution_count": 27,
   "id": "78feaec2",
   "metadata": {},
   "outputs": [
    {
     "name": "stdout",
     "output_type": "stream",
     "text": [
      "Regression(\n",
      "  (hidden1): Linear(in_features=3, out_features=5, bias=True)\n",
      "  (act1): Tanh()\n",
      "  (out): Linear(in_features=5, out_features=1, bias=True)\n",
      ")\n"
     ]
    }
   ],
   "source": [
    "reg_model2 = Regression(input_dim=input_dim,hidden_dim=hidden_dim,output_dim=output_dim)\n",
    "print(reg_model2)"
   ]
  },
  {
   "cell_type": "code",
   "execution_count": 28,
   "id": "6ae38547",
   "metadata": {},
   "outputs": [],
   "source": [
    "loss_fn = nn.MSELoss()  # binary cross entropy\n",
    "optimizer = optim.SGD(reg_model2.parameters(), lr=0.001)"
   ]
  },
  {
   "cell_type": "code",
   "execution_count": 29,
   "id": "2aba3945",
   "metadata": {},
   "outputs": [],
   "source": [
    "y_tensor = torch.tensor(y,dtype=torch.float32)"
   ]
  },
  {
   "cell_type": "code",
   "execution_count": 30,
   "id": "3723e2e0",
   "metadata": {},
   "outputs": [
    {
     "name": "stdout",
     "output_type": "stream",
     "text": [
      "epoch: 0 loss: 1.553408145904541\n",
      "epoch: 50 loss: 1.4114553928375244\n",
      "epoch: 100 loss: 1.284270167350769\n",
      "epoch: 150 loss: 1.1685174703598022\n",
      "epoch: 200 loss: 1.062007188796997\n",
      "epoch: 250 loss: 0.963338315486908\n",
      "epoch: 300 loss: 0.8716448545455933\n",
      "epoch: 350 loss: 0.7864111661911011\n",
      "epoch: 400 loss: 0.7073371410369873\n",
      "epoch: 450 loss: 0.6342413425445557\n"
     ]
    },
    {
     "data": {
      "text/plain": [
       "[<matplotlib.lines.Line2D at 0x1f25bf13b50>]"
      ]
     },
     "execution_count": 30,
     "metadata": {},
     "output_type": "execute_result"
    },
    {
     "data": {
      "image/png": "[encoded data removed]",
      "text/plain": [
       "<Figure size 640x480 with 1 Axes>"
      ]
     },
     "metadata": {},
     "output_type": "display_data"
    }
   ],
   "source": [
    "losses = []\n",
    "for i in range(500):\n",
    "    optimizer.zero_grad()\n",
    "    \n",
    "    ypred = reg_model2.forward(X_tensor)\n",
    "    loss = loss_fn(ypred, y_tensor)\n",
    "    \n",
    "    losses.append(loss.item())\n",
    "    loss.backward()\n",
    "    optimizer.step()\n",
    "    if(i%50==0):\n",
    "        print(f\"epoch: {i} loss: {loss.item()}\")\n",
    "        \n",
    "\n",
    "plt.plot(range(500),losses)"
   ]
  },
  {
   "cell_type": "code",
   "execution_count": 31,
   "id": "0a6f500b",
   "metadata": {},
   "outputs": [
    {
     "name": "stdout",
     "output_type": "stream",
     "text": [
      "hidden1.weight Parameter containing:\n",
      "tensor([[ 0.0556, -0.5293,  0.4175],\n",
      "        [-0.0266, -0.1599, -0.0605],\n",
      "        [ 0.4973, -0.2689,  0.0022],\n",
      "        [-0.5607,  0.0382, -0.6483],\n",
      "        [ 0.4547, -0.4584, -0.0522]], requires_grad=True)\n",
      "hidden1.bias Parameter containing:\n",
      "tensor([-0.5595, -0.1827, -0.3808,  0.3430,  0.5886], requires_grad=True)\n",
      "out.weight Parameter containing:\n",
      "tensor([[-0.0705, -0.2201,  0.3457, -0.6246,  0.4538]], requires_grad=True)\n",
      "out.bias Parameter containing:\n",
      "tensor([-0.1556], requires_grad=True)\n"
     ]
    }
   ],
   "source": [
    "for name,param in reg_model2.named_parameters():\n",
    "    print(name,param)"
   ]
  },
  {
   "cell_type": "code",
   "execution_count": null,
   "id": "f3958cf8",
   "metadata": {},
   "outputs": [],
   "source": []
  },
  {
   "cell_type": "code",
   "execution_count": null,
   "id": "2c452454",
   "metadata": {},
   "outputs": [],
   "source": []
  }
 ],
 "metadata": {
  "kernelspec": {
   "display_name": "Python 3 (ipykernel)",
   "language": "python",
   "name": "python3"
  },
  "language_info": {
   "codemirror_mode": {
    "name": "ipython",
    "version": 3
   },
   "file_extension": ".py",
   "mimetype": "text/x-python",
   "name": "python",
   "nbconvert_exporter": "python",
   "pygments_lexer": "ipython3",
   "version": "3.10.8"
  }
 },
 "nbformat": 4,
 "nbformat_minor": 5
}
